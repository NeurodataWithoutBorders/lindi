{
 "cells": [
  {
   "cell_type": "code",
   "execution_count": 1,
   "id": "2368a795-c8d2-4932-ae3c-94bcf121f2d3",
   "metadata": {},
   "outputs": [],
   "source": [
    "import numpy as np\n",
    "import os\n",
    "import zarr"
   ]
  },
  {
   "cell_type": "markdown",
   "id": "30abeabf-942b-4b5e-8212-c2dce08167c6",
   "metadata": {},
   "source": [
    "# Create a zarr hierarchy"
   ]
  },
  {
   "cell_type": "code",
   "execution_count": 75,
   "id": "3b55a61e-7ee0-4ea7-ad2b-65e4662902a6",
   "metadata": {},
   "outputs": [],
   "source": [
    "store = zarr.DirectoryStore(\"example.zarr\")\n",
    "root = zarr.group(store=store, overwrite=True)\n",
    "foo = root.create_group(\"foo\")\n",
    "foo.attrs[\"foo_attr1\"] = True\n",
    "foo.attrs[\"foo_attr2\"] = np.nan\n",
    "foo.attrs[\"foo_attr3\"] = \"NaN\"\n",
    "foo_data = foo.array(\"foo_data\", data=[1, None], dtype=\"float\", compressor=None, fill_value=np.nan)\n",
    "bar = foo.create_group(\"bar\")\n",
    "bar_data = bar.zeros(\"bar_data\", shape=(10, 10), chunks=(10, 10), dtype=\"i4\")\n",
    "bar_data.attrs[\"bar_data_attr1\"] = 42\n",
    "bar_data.attrs[\"bar_data_attr2\"] = [\"test1\", \"test2\"]"
   ]
  },
  {
   "cell_type": "code",
   "execution_count": 76,
   "id": "012199c6-49f8-44c0-a8e5-e0ca9232a57b",
   "metadata": {},
   "outputs": [
    {
     "name": "stdout",
     "output_type": "stream",
     "text": [
      "{\n",
      "    \"chunks\": [\n",
      "        2\n",
      "    ],\n",
      "    \"compressor\": null,\n",
      "    \"dtype\": \"<f8\",\n",
      "    \"fill_value\": \"NaN\",\n",
      "    \"filters\": null,\n",
      "    \"order\": \"C\",\n",
      "    \"shape\": [\n",
      "        2\n",
      "    ],\n",
      "    \"zarr_format\": 2\n",
      "}\n"
     ]
    }
   ],
   "source": [
    "f = open(\"example.zarr/foo/foo_data/.zarray\")\n",
    "print(f.read())"
   ]
  },
  {
   "cell_type": "code",
   "execution_count": 44,
   "id": "af18c0b5-2f58-4229-b058-484526fb18d1",
   "metadata": {},
   "outputs": [
    {
     "data": {
      "application/vnd.jupyter.widget-view+json": {
       "model_id": "7e3cb22bfbbc4856b5657032655e8e29",
       "version_major": 2,
       "version_minor": 0
      },
      "text/plain": [
       "Tree(nodes=(Node(disabled=True, name='/', nodes=(Node(disabled=True, name='foo', nodes=(Node(disabled=True, na…"
      ]
     },
     "execution_count": 44,
     "metadata": {},
     "output_type": "execute_result"
    }
   ],
   "source": [
    "root.tree(expand=True)"
   ]
  },
  {
   "cell_type": "code",
   "execution_count": 45,
   "id": "917f3be5-30f7-42dd-ad19-386a865750c2",
   "metadata": {},
   "outputs": [],
   "source": [
    "store = zarr.consolidate_metadata(store)"
   ]
  },
  {
   "cell_type": "code",
   "execution_count": 46,
   "id": "0e0d7251-95de-4b0f-9745-7695a00a1458",
   "metadata": {},
   "outputs": [
    {
     "data": {
      "text/plain": [
       "['.zgroup', 'foo', '.zmetadata']"
      ]
     },
     "execution_count": 46,
     "metadata": {},
     "output_type": "execute_result"
    }
   ],
   "source": [
    "os.listdir(\"example.zarr\")"
   ]
  },
  {
   "cell_type": "code",
   "execution_count": 47,
   "id": "df918c7f-e3b1-4583-a835-b26b4399beb0",
   "metadata": {},
   "outputs": [],
   "source": [
    "# https://stackoverflow.com/a/59109706/20177\n",
    "from pathlib import Path\n",
    "\n",
    "# prefix components:\n",
    "space =  '    '\n",
    "branch = '│   '\n",
    "# pointers:\n",
    "tee =    '├── '\n",
    "last =   '└── '\n",
    "\n",
    "\n",
    "def tree(dir_path: Path, prefix: str=''):\n",
    "    \"\"\"A recursive generator, given a directory Path object\n",
    "    will yield a visual tree structure line by line\n",
    "    with each line prefixed by the same characters\n",
    "    \"\"\"    \n",
    "    contents = list(dir_path.iterdir())\n",
    "    # contents each get pointers that are ├── with a final └── :\n",
    "    pointers = [tee] * (len(contents) - 1) + [last]\n",
    "    for pointer, path in zip(pointers, contents):\n",
    "        yield prefix + pointer + path.name\n",
    "        if path.is_dir(): # extend the prefix and recurse:\n",
    "            extension = branch if pointer == tee else space \n",
    "            # i.e. space because last, └── , above so no more |\n",
    "            yield from tree(path, prefix=prefix+extension)"
   ]
  },
  {
   "cell_type": "code",
   "execution_count": 48,
   "id": "35bc32ff-8923-4732-ad75-67b7aedc01cc",
   "metadata": {},
   "outputs": [
    {
     "name": "stdout",
     "output_type": "stream",
     "text": [
      "├── .zgroup\n",
      "├── foo\n",
      "│   ├── .zattrs\n",
      "│   ├── .zgroup\n",
      "│   ├── foo_data\n",
      "│   │   ├── .zarray\n",
      "│   │   └── 0\n",
      "│   └── bar\n",
      "│       ├── .zgroup\n",
      "│       └── bar_data\n",
      "│           ├── .zarray\n",
      "│           └── .zattrs\n",
      "└── .zmetadata\n"
     ]
    }
   ],
   "source": [
    "for line in tree(Path(\"example.zarr\")):\n",
    "    print(line)"
   ]
  },
  {
   "cell_type": "markdown",
   "id": "96dcee0e-efcd-4ca2-9b0b-1142a13c594f",
   "metadata": {},
   "source": [
    "# What does the zarr consolidated metadata look like?"
   ]
  },
  {
   "cell_type": "code",
   "execution_count": 49,
   "id": "1042c4ba-b055-4b49-b931-78ae8542cd26",
   "metadata": {},
   "outputs": [
    {
     "name": "stdout",
     "output_type": "stream",
     "text": [
      "{\n",
      "    \"metadata\": {\n",
      "        \".zgroup\": {\n",
      "            \"zarr_format\": 2\n",
      "        },\n",
      "        \"foo/.zattrs\": {\n",
      "            \"foo_attr1\": true,\n",
      "            \"foo_attr2\": NaN,\n",
      "            \"foo_attr3\": \"NaN\"\n",
      "        },\n",
      "        \"foo/.zgroup\": {\n",
      "            \"zarr_format\": 2\n",
      "        },\n",
      "        \"foo/bar/.zgroup\": {\n",
      "            \"zarr_format\": 2\n",
      "        },\n",
      "        \"foo/bar/bar_data/.zarray\": {\n",
      "            \"chunks\": [\n",
      "                10,\n",
      "                10\n",
      "            ],\n",
      "            \"compressor\": {\n",
      "                \"blocksize\": 0,\n",
      "                \"clevel\": 5,\n",
      "                \"cname\": \"lz4\",\n",
      "                \"id\": \"blosc\",\n",
      "                \"shuffle\": 1\n",
      "            },\n",
      "            \"dtype\": \"<i4\",\n",
      "            \"fill_value\": 0,\n",
      "            \"filters\": null,\n",
      "            \"order\": \"C\",\n",
      "            \"shape\": [\n",
      "                10,\n",
      "                10\n",
      "            ],\n",
      "            \"zarr_format\": 2\n",
      "        },\n",
      "        \"foo/bar/bar_data/.zattrs\": {\n",
      "            \"bar_data_attr1\": 42,\n",
      "            \"bar_data_attr2\": [\n",
      "                \"test1\",\n",
      "                \"test2\"\n",
      "            ]\n",
      "        },\n",
      "        \"foo/foo_data/.zarray\": {\n",
      "            \"chunks\": [],\n",
      "            \"compressor\": null,\n",
      "            \"dtype\": \"<f8\",\n",
      "            \"fill_value\": \"NaN\",\n",
      "            \"filters\": null,\n",
      "            \"order\": \"C\",\n",
      "            \"shape\": [],\n",
      "            \"zarr_format\": 2\n",
      "        }\n",
      "    },\n",
      "    \"zarr_consolidated_format\": 1\n",
      "}\n"
     ]
    }
   ],
   "source": [
    "import json\n",
    "f = open(\"example.zarr/.zmetadata\")\n",
    "zmeta = json.load(f)\n",
    "print(json.dumps(zmeta, indent=4))"
   ]
  },
  {
   "cell_type": "markdown",
   "id": "d1aa17ab-24b2-4642-9498-9c902777caca",
   "metadata": {},
   "source": [
    "# Test storing NaN as a zarr attribute"
   ]
  },
  {
   "cell_type": "code",
   "execution_count": 50,
   "id": "d048e144-7f21-460d-8881-1971a9a7cbca",
   "metadata": {},
   "outputs": [
    {
     "name": "stdout",
     "output_type": "stream",
     "text": [
      "{\n",
      "    \"foo_attr1\": NaN\n",
      "}\n"
     ]
    }
   ],
   "source": [
    "store = zarr.DirectoryStore(\"example-nan.zarr\")\n",
    "root = zarr.group(store=store, overwrite=True)\n",
    "foo = root.attrs[\"foo_attr1\"] = np.nan\n",
    "f = open(\"example-nan.zarr/.zattrs\")\n",
    "print(f.read())"
   ]
  },
  {
   "cell_type": "code",
   "execution_count": null,
   "id": "91e2c99e-b13f-47e8-a556-3ac501e6797b",
   "metadata": {},
   "outputs": [],
   "source": [
    "store = zarr.DirectoryStore(\"example.zarr\")\n",
    "root = zarr.group(store=store, overwrite=True)\n",
    "root.array(data=None, dtype=\"float\", fill_value=np.nan)\n",
    "zarr.save(\"example-fill-value-nan.zarr\", root)\n",
    "f = open(\"example-fill-value-nan.zarr/.zarray\")\n",
    "print(f.read())"
   ]
  },
  {
   "cell_type": "code",
   "execution_count": 61,
   "id": "b39d83c8-2a8f-4e57-8de3-833d4cd0c5e0",
   "metadata": {},
   "outputs": [
    {
     "name": "stdout",
     "output_type": "stream",
     "text": [
      "{\n",
      "    \"chunks\": [\n",
      "        3\n",
      "    ],\n",
      "    \"compressor\": {\n",
      "        \"blocksize\": 0,\n",
      "        \"clevel\": 5,\n",
      "        \"cname\": \"lz4\",\n",
      "        \"id\": \"blosc\",\n",
      "        \"shuffle\": 1\n",
      "    },\n",
      "    \"dtype\": \"<f8\",\n",
      "    \"fill_value\": 0.0,\n",
      "    \"filters\": null,\n",
      "    \"order\": \"C\",\n",
      "    \"shape\": [\n",
      "        3\n",
      "    ],\n",
      "    \"zarr_format\": 2\n",
      "}\n"
     ]
    }
   ],
   "source": [
    "root = zarr.array(data=[1, 2, 3], shape=(5, 1), dtype=\"float\", fill_value=np.nan)\n",
    "zarr.save(\"example-fill-value-nan.zarr\", root)\n",
    "f = open(\"example-fill-value-nan.zarr/.zarray\")\n",
    "print(f.read())"
   ]
  },
  {
   "cell_type": "code",
   "execution_count": 24,
   "id": "7f00b004-be83-4eb7-88b8-0b7e4acc2aa0",
   "metadata": {},
   "outputs": [
    {
     "name": "stdout",
     "output_type": "stream",
     "text": [
      "nan\n",
      "<class 'float'>\n"
     ]
    }
   ],
   "source": [
    "read_root = zarr.open(\"example-nan.zarr\")\n",
    "a = read_root.attrs[\"foo_attr1\"]\n",
    "print(a)\n",
    "print(type(a))"
   ]
  },
  {
   "cell_type": "code",
   "execution_count": 36,
   "id": "c270d65f-eb1e-44ab-83c5-b8709111973c",
   "metadata": {},
   "outputs": [
    {
     "name": "stdout",
     "output_type": "stream",
     "text": [
      "nan\n"
     ]
    }
   ],
   "source": [
    "d = {\"test\": np.nan}\n",
    "s = json.dumps(d)\n",
    "print(json.loads(s)[\"test\"])"
   ]
  },
  {
   "cell_type": "code",
   "execution_count": 37,
   "id": "7de3b6eb-3ded-43bf-9034-be3c800aaf61",
   "metadata": {},
   "outputs": [
    {
     "data": {
      "text/plain": [
       "float"
      ]
     },
     "execution_count": 37,
     "metadata": {},
     "output_type": "execute_result"
    }
   ],
   "source": [
    "type(json.loads(s)[\"test\"])"
   ]
  },
  {
   "cell_type": "code",
   "execution_count": 74,
   "id": "d0d74f84-c7de-4e2b-8a3f-87d8fe8eb45c",
   "metadata": {},
   "outputs": [
    {
     "data": {
      "text/plain": [
       "-inf"
      ]
     },
     "execution_count": 74,
     "metadata": {},
     "output_type": "execute_result"
    }
   ],
   "source": [
    "float('-inf')"
   ]
  },
  {
   "cell_type": "code",
   "execution_count": null,
   "id": "c7698507-50b2-491d-a1fe-fad208e7de6f",
   "metadata": {},
   "outputs": [],
   "source": []
  }
 ],
 "metadata": {
  "kernelspec": {
   "display_name": "Python 3 (ipykernel)",
   "language": "python",
   "name": "python3"
  },
  "language_info": {
   "codemirror_mode": {
    "name": "ipython",
    "version": 3
   },
   "file_extension": ".py",
   "mimetype": "text/x-python",
   "name": "python",
   "nbconvert_exporter": "python",
   "pygments_lexer": "ipython3",
   "version": "3.11.8"
  }
 },
 "nbformat": 4,
 "nbformat_minor": 5
}
